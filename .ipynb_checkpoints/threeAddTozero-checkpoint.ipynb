{
 "cells": [
  {
   "cell_type": "markdown",
   "metadata": {},
   "source": [
    "Given an array nums of n integers, are there elements a, b, c in nums such that a + b + c = 0? Find all unique triplets in the array which gives the sum of zero.<br>\n",
    "\n",
    "Note:<br>\n",
    "\n",
    "The solution set must not contain duplicate triplets.<br>\n",
    "\n",
    "Example:<br>\n",
    "\n",
    "Given array nums = [-1, 0, 1, 2, -1, -4],<br>\n",
    "\n",
    "A solution set is:<br>\n",
    "[\n",
    "  [-1, 0, 1],\n",
    "  [-1, -1, 2]\n",
    "]"
   ]
  },
  {
   "cell_type": "code",
   "execution_count": 16,
   "metadata": {},
   "outputs": [],
   "source": [
    "def addtozero(lst):\n",
    "    n= len(lst)\n",
    "    result=[]\n",
    "    for i in range(n):\n",
    "        for j in range(i+1,n):\n",
    "            for w in range(j+1,n):\n",
    "                needed = 0 -(lst[i]+lst[j])\n",
    "                if lst[w]== needed:\n",
    "                    r =(lst[i],lst[j],lst[w])\n",
    "                    r = sorted(r)\n",
    "                    result.append(r)\n",
    "        unique=[]\n",
    "        for item in result:\n",
    "            if item not in unique:\n",
    "                unique.append(item)\n",
    "    \n",
    "    return unique     "
   ]
  },
  {
   "cell_type": "code",
   "execution_count": 17,
   "metadata": {},
   "outputs": [
    {
     "data": {
      "text/plain": [
       "[[-1, 0, 1], [-1, -1, 2]]"
      ]
     },
     "execution_count": 17,
     "metadata": {},
     "output_type": "execute_result"
    }
   ],
   "source": [
    "#test\n",
    "addtozero([-1,0,1,2,-1,-4])"
   ]
  },
  {
   "cell_type": "code",
   "execution_count": null,
   "metadata": {},
   "outputs": [],
   "source": [
    "#Refacctor"
   ]
  }
 ],
 "metadata": {
  "kernelspec": {
   "display_name": "Python 3",
   "language": "python",
   "name": "python3"
  },
  "language_info": {
   "codemirror_mode": {
    "name": "ipython",
    "version": 3
   },
   "file_extension": ".py",
   "mimetype": "text/x-python",
   "name": "python",
   "nbconvert_exporter": "python",
   "pygments_lexer": "ipython3",
   "version": "3.7.1"
  }
 },
 "nbformat": 4,
 "nbformat_minor": 2
}
