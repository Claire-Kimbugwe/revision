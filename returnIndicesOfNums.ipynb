{
 "cells": [
  {
   "cell_type": "markdown",
   "metadata": {},
   "source": [
    "Given an array of integers, return indices of the two numbers such that they add up to a specific target.\n",
    "\n",
    "You may assume that each input would have exactly one solution, and you may not use the same element twice.<br>\n",
    "\n",
    "Example:<br>\n",
    "\n",
    "Given nums = [2, 7, 11, 15], target = 9,<br>\n",
    "\n",
    "Because nums[0] + nums[1] = 2 + 7 = 9,<br>\n",
    "return [0, 1].\n",
    " "
   ]
  },
  {
   "cell_type": "code",
   "execution_count": 14,
   "metadata": {},
   "outputs": [],
   "source": [
    "def returnIndeces(array,target):\n",
    "    #length of array\n",
    "    n = len(array)\n",
    "    for index in range(n):\n",
    "        for j in range(index + 1,n):\n",
    "            #set the value  of the number we are looking for\n",
    "            needed = target - array[index]\n",
    "            if array[j] == needed:\n",
    "                return_list = [index,j]\n",
    "                return return_list\n",
    "            \n",
    "    return 'No target found'"
   ]
  },
  {
   "cell_type": "code",
   "execution_count": 15,
   "metadata": {},
   "outputs": [
    {
     "data": {
      "text/plain": [
       "[0, 1]"
      ]
     },
     "execution_count": 15,
     "metadata": {},
     "output_type": "execute_result"
    }
   ],
   "source": [
    "#test\n",
    "returnIndeces([2, 7, 11, 15], target = 9)"
   ]
  },
  {
   "cell_type": "code",
   "execution_count": 16,
   "metadata": {},
   "outputs": [
    {
     "data": {
      "text/plain": [
       "[1, 4]"
      ]
     },
     "execution_count": 16,
     "metadata": {},
     "output_type": "execute_result"
    }
   ],
   "source": [
    "#test\n",
    "returnIndeces([1,2,3,4,5],7)"
   ]
  },
  {
   "cell_type": "code",
   "execution_count": 17,
   "metadata": {},
   "outputs": [
    {
     "data": {
      "text/plain": [
       "'No target found'"
      ]
     },
     "execution_count": 17,
     "metadata": {},
     "output_type": "execute_result"
    }
   ],
   "source": [
    "#test\n",
    "returnIndeces([1,8,13,4,5],7)"
   ]
  },
  {
   "cell_type": "markdown",
   "metadata": {},
   "source": [
    "### Refactor"
   ]
  },
  {
   "cell_type": "code",
   "execution_count": 18,
   "metadata": {},
   "outputs": [],
   "source": [
    "def refactor(array,target):\n",
    "    index_dict = {}\n",
    "    for index,value in enumerate(array):\n",
    "        needed = target - value\n",
    "        if needed in index_dict:\n",
    "            return [index_dict[needed],index]\n",
    "        else:\n",
    "            index_dict[value]=index\n",
    "    return 'Not there'"
   ]
  },
  {
   "cell_type": "code",
   "execution_count": 21,
   "metadata": {},
   "outputs": [
    {
     "data": {
      "text/plain": [
       "('No target found', [1, 4], [0, 1])"
      ]
     },
     "execution_count": 21,
     "metadata": {},
     "output_type": "execute_result"
    }
   ],
   "source": [
    "#test\n",
    "returnIndeces([1,8,13,4,5],7),returnIndeces([1,2,3,4,5],7), returnIndeces([2, 7, 11, 15], target = 9)"
   ]
  },
  {
   "cell_type": "code",
   "execution_count": null,
   "metadata": {},
   "outputs": [],
   "source": []
  }
 ],
 "metadata": {
  "kernelspec": {
   "display_name": "Python 3",
   "language": "python",
   "name": "python3"
  },
  "language_info": {
   "codemirror_mode": {
    "name": "ipython",
    "version": 3
   },
   "file_extension": ".py",
   "mimetype": "text/x-python",
   "name": "python",
   "nbconvert_exporter": "python",
   "pygments_lexer": "ipython3",
   "version": "3.6.5"
  }
 },
 "nbformat": 4,
 "nbformat_minor": 2
}
