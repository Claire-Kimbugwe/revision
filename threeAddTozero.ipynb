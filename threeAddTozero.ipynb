{
 "cells": [
  {
   "cell_type": "markdown",
   "metadata": {},
   "source": [
    "Given an array nums of n integers, are there elements a, b, c in nums such that a + b + c = 0? Find all unique triplets in the array which gives the sum of zero.<br>\n",
    "\n",
    "Note:<br>\n",
    "\n",
    "The solution set must not contain duplicate triplets.<br>\n",
    "\n",
    "Example:<br>\n",
    "\n",
    "Given array nums = [-1, 0, 1, 2, -1, -4],<br>\n",
    "\n",
    "A solution set is:<br>\n",
    "[\n",
    "  [-1, 0, 1],\n",
    "  [-1, -1, 2]\n",
    "]"
   ]
  },
  {
   "cell_type": "code",
   "execution_count": 14,
   "metadata": {},
   "outputs": [],
   "source": [
    "def addtozero(lst):\n",
    "    n= len(lst)\n",
    "    result=[]\n",
    "    for i in range(n):\n",
    "        for j in range(i+1,n):\n",
    "            for w in range(j+1,n):\n",
    "                needed = 0 -(lst[i]+lst[j])\n",
    "                if lst[w]== needed:\n",
    "                    r =(lst[i],lst[j],lst[w])\n",
    "                    r = sorted(r)\n",
    "                    result.append(r)\n",
    "        unique=[]\n",
    "        for item in result:\n",
    "            if item not in unique:\n",
    "                unique.append(item)\n",
    "    \n",
    "    return unique     "
   ]
  },
  {
   "cell_type": "code",
   "execution_count": 15,
   "metadata": {},
   "outputs": [
    {
     "data": {
      "text/plain": [
       "[[-1, 0, 1], [-1, -1, 2]]"
      ]
     },
     "execution_count": 15,
     "metadata": {},
     "output_type": "execute_result"
    }
   ],
   "source": [
    "#test\n",
    "addtozero([-1,0,1,2,-1,-4])"
   ]
  },
  {
   "cell_type": "markdown",
   "metadata": {},
   "source": [
    "# Refactor"
   ]
  },
  {
   "cell_type": "code",
   "execution_count": 26,
   "metadata": {},
   "outputs": [
    {
     "name": "stdout",
     "output_type": "stream",
     "text": [
      "-1 0 1\n",
      "-1 1 0\n",
      "appended [-1, 0, 1]\n",
      "-1 2 -1\n",
      "-1 -1 2\n",
      "appended [-1, -1, 2]\n",
      "-1 -4 5\n"
     ]
    },
    {
     "data": {
      "text/plain": [
       "[[-1, 0, 1], [-1, -1, 2]]"
      ]
     },
     "execution_count": 26,
     "metadata": {},
     "output_type": "execute_result"
    }
   ],
   "source": [
    "def addtozero(lst):\n",
    "    n= len(lst)\n",
    "    hash_dict={}\n",
    "    result=[]\n",
    "    if lst == []:\n",
    "        return lst\n",
    "    first = lst[0]\n",
    "    for index,value in enumerate(lst[1:]):\n",
    "        need= 0-(first+value)\n",
    "        print(first,value, need)\n",
    "        if need in hash_dict.values():\n",
    "            r= sorted((first,value,need))\n",
    "            print(f'appended {r}')\n",
    "            result.append(r)\n",
    "        else:\n",
    "            hash_dict[value]= index\n",
    "\n",
    "    unique=[]\n",
    "    for item in result:\n",
    "        if item not in unique:\n",
    "            unique.append(item)\n",
    "    \n",
    "    return unique\n",
    "#test\n",
    "addtozero([-1,0,1,2,-1,-4]) "
   ]
  },
  {
   "cell_type": "code",
   "execution_count": 27,
   "metadata": {},
   "outputs": [
    {
     "name": "stdout",
     "output_type": "stream",
     "text": [
      "-1 0 1\n",
      "-1 1 0\n",
      "appended [-1, 0, 1]\n"
     ]
    },
    {
     "data": {
      "text/plain": [
       "[[-1, 0, 1]]"
      ]
     },
     "execution_count": 27,
     "metadata": {},
     "output_type": "execute_result"
    }
   ],
   "source": [
    "#test\n",
    "addtozero([-1,0,1])"
   ]
  },
  {
   "cell_type": "code",
   "execution_count": 28,
   "metadata": {},
   "outputs": [
    {
     "data": {
      "text/plain": [
       "[]"
      ]
     },
     "execution_count": 28,
     "metadata": {},
     "output_type": "execute_result"
    }
   ],
   "source": [
    "#test\n",
    "addtozero([])"
   ]
  },
  {
   "cell_type": "code",
   "execution_count": null,
   "metadata": {},
   "outputs": [],
   "source": []
  }
 ],
 "metadata": {
  "kernelspec": {
   "display_name": "Python 3",
   "language": "python",
   "name": "python3"
  },
  "language_info": {
   "codemirror_mode": {
    "name": "ipython",
    "version": 3
   },
   "file_extension": ".py",
   "mimetype": "text/x-python",
   "name": "python",
   "nbconvert_exporter": "python",
   "pygments_lexer": "ipython3",
   "version": "3.7.1"
  }
 },
 "nbformat": 4,
 "nbformat_minor": 2
}
